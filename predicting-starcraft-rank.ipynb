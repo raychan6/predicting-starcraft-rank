{
 "cells": [
  {
   "cell_type": "code",
   "execution_count": 1,
   "metadata": {},
   "outputs": [],
   "source": [
    "# import packages\n",
    "from sklearn.linear_model import LogisticRegression\n",
    "from sklearn.model_selection import train_test_split\n",
    "from sklearn.metrics import confusion_matrix\n",
    "from sklearn.preprocessing import StandardScaler\n",
    "import pandas as pd\n",
    "import numpy as np\n",
    "import seaborn as sns\n",
    "import matplotlib.pyplot as plt\n",
    "from sklearn import metrics\n",
    "from sklearn.ensemble import RandomForestClassifier"
   ]
  },
  {
   "cell_type": "code",
   "execution_count": 2,
   "metadata": {},
   "outputs": [
    {
     "data": {
      "text/html": [
       "<div>\n",
       "<style scoped>\n",
       "    .dataframe tbody tr th:only-of-type {\n",
       "        vertical-align: middle;\n",
       "    }\n",
       "\n",
       "    .dataframe tbody tr th {\n",
       "        vertical-align: top;\n",
       "    }\n",
       "\n",
       "    .dataframe thead th {\n",
       "        text-align: right;\n",
       "    }\n",
       "</style>\n",
       "<table border=\"1\" class=\"dataframe\">\n",
       "  <thead>\n",
       "    <tr style=\"text-align: right;\">\n",
       "      <th></th>\n",
       "      <th>GameID</th>\n",
       "      <th>LeagueIndex</th>\n",
       "      <th>Age</th>\n",
       "      <th>HoursPerWeek</th>\n",
       "      <th>TotalHours</th>\n",
       "      <th>APM</th>\n",
       "      <th>SelectByHotkeys</th>\n",
       "      <th>AssignToHotkeys</th>\n",
       "      <th>UniqueHotkeys</th>\n",
       "      <th>MinimapAttacks</th>\n",
       "      <th>MinimapRightClicks</th>\n",
       "      <th>NumberOfPACs</th>\n",
       "      <th>GapBetweenPACs</th>\n",
       "      <th>ActionLatency</th>\n",
       "      <th>ActionsInPAC</th>\n",
       "      <th>TotalMapExplored</th>\n",
       "      <th>WorkersMade</th>\n",
       "      <th>UniqueUnitsMade</th>\n",
       "      <th>ComplexUnitsMade</th>\n",
       "      <th>ComplexAbilitiesUsed</th>\n",
       "    </tr>\n",
       "  </thead>\n",
       "  <tbody>\n",
       "    <tr>\n",
       "      <th>0</th>\n",
       "      <td>52</td>\n",
       "      <td>5</td>\n",
       "      <td>27</td>\n",
       "      <td>10</td>\n",
       "      <td>3000</td>\n",
       "      <td>143.7180</td>\n",
       "      <td>0.003515</td>\n",
       "      <td>0.000220</td>\n",
       "      <td>7</td>\n",
       "      <td>0.000110</td>\n",
       "      <td>0.000392</td>\n",
       "      <td>0.004849</td>\n",
       "      <td>32.6677</td>\n",
       "      <td>40.8673</td>\n",
       "      <td>4.7508</td>\n",
       "      <td>28</td>\n",
       "      <td>0.001397</td>\n",
       "      <td>6</td>\n",
       "      <td>0.0</td>\n",
       "      <td>0.000000</td>\n",
       "    </tr>\n",
       "    <tr>\n",
       "      <th>1</th>\n",
       "      <td>55</td>\n",
       "      <td>5</td>\n",
       "      <td>23</td>\n",
       "      <td>10</td>\n",
       "      <td>5000</td>\n",
       "      <td>129.2322</td>\n",
       "      <td>0.003304</td>\n",
       "      <td>0.000259</td>\n",
       "      <td>4</td>\n",
       "      <td>0.000294</td>\n",
       "      <td>0.000432</td>\n",
       "      <td>0.004307</td>\n",
       "      <td>32.9194</td>\n",
       "      <td>42.3454</td>\n",
       "      <td>4.8434</td>\n",
       "      <td>22</td>\n",
       "      <td>0.001193</td>\n",
       "      <td>5</td>\n",
       "      <td>0.0</td>\n",
       "      <td>0.000208</td>\n",
       "    </tr>\n",
       "    <tr>\n",
       "      <th>2</th>\n",
       "      <td>56</td>\n",
       "      <td>4</td>\n",
       "      <td>30</td>\n",
       "      <td>10</td>\n",
       "      <td>200</td>\n",
       "      <td>69.9612</td>\n",
       "      <td>0.001101</td>\n",
       "      <td>0.000336</td>\n",
       "      <td>4</td>\n",
       "      <td>0.000294</td>\n",
       "      <td>0.000461</td>\n",
       "      <td>0.002926</td>\n",
       "      <td>44.6475</td>\n",
       "      <td>75.3548</td>\n",
       "      <td>4.0430</td>\n",
       "      <td>22</td>\n",
       "      <td>0.000745</td>\n",
       "      <td>6</td>\n",
       "      <td>0.0</td>\n",
       "      <td>0.000189</td>\n",
       "    </tr>\n",
       "    <tr>\n",
       "      <th>3</th>\n",
       "      <td>57</td>\n",
       "      <td>3</td>\n",
       "      <td>19</td>\n",
       "      <td>20</td>\n",
       "      <td>400</td>\n",
       "      <td>107.6016</td>\n",
       "      <td>0.001034</td>\n",
       "      <td>0.000213</td>\n",
       "      <td>1</td>\n",
       "      <td>0.000053</td>\n",
       "      <td>0.000543</td>\n",
       "      <td>0.003783</td>\n",
       "      <td>29.2203</td>\n",
       "      <td>53.7352</td>\n",
       "      <td>4.9155</td>\n",
       "      <td>19</td>\n",
       "      <td>0.000426</td>\n",
       "      <td>7</td>\n",
       "      <td>0.0</td>\n",
       "      <td>0.000384</td>\n",
       "    </tr>\n",
       "    <tr>\n",
       "      <th>4</th>\n",
       "      <td>58</td>\n",
       "      <td>3</td>\n",
       "      <td>32</td>\n",
       "      <td>10</td>\n",
       "      <td>500</td>\n",
       "      <td>122.8908</td>\n",
       "      <td>0.001136</td>\n",
       "      <td>0.000327</td>\n",
       "      <td>2</td>\n",
       "      <td>0.000000</td>\n",
       "      <td>0.001329</td>\n",
       "      <td>0.002368</td>\n",
       "      <td>22.6885</td>\n",
       "      <td>62.0813</td>\n",
       "      <td>9.3740</td>\n",
       "      <td>15</td>\n",
       "      <td>0.001174</td>\n",
       "      <td>4</td>\n",
       "      <td>0.0</td>\n",
       "      <td>0.000019</td>\n",
       "    </tr>\n",
       "  </tbody>\n",
       "</table>\n",
       "</div>"
      ],
      "text/plain": [
       "   GameID  LeagueIndex Age HoursPerWeek TotalHours       APM  SelectByHotkeys   \n",
       "0      52            5  27           10       3000  143.7180         0.003515  \\\n",
       "1      55            5  23           10       5000  129.2322         0.003304   \n",
       "2      56            4  30           10        200   69.9612         0.001101   \n",
       "3      57            3  19           20        400  107.6016         0.001034   \n",
       "4      58            3  32           10        500  122.8908         0.001136   \n",
       "\n",
       "   AssignToHotkeys  UniqueHotkeys  MinimapAttacks  MinimapRightClicks   \n",
       "0         0.000220              7        0.000110            0.000392  \\\n",
       "1         0.000259              4        0.000294            0.000432   \n",
       "2         0.000336              4        0.000294            0.000461   \n",
       "3         0.000213              1        0.000053            0.000543   \n",
       "4         0.000327              2        0.000000            0.001329   \n",
       "\n",
       "   NumberOfPACs  GapBetweenPACs  ActionLatency  ActionsInPAC   \n",
       "0      0.004849         32.6677        40.8673        4.7508  \\\n",
       "1      0.004307         32.9194        42.3454        4.8434   \n",
       "2      0.002926         44.6475        75.3548        4.0430   \n",
       "3      0.003783         29.2203        53.7352        4.9155   \n",
       "4      0.002368         22.6885        62.0813        9.3740   \n",
       "\n",
       "   TotalMapExplored  WorkersMade  UniqueUnitsMade  ComplexUnitsMade   \n",
       "0                28     0.001397                6               0.0  \\\n",
       "1                22     0.001193                5               0.0   \n",
       "2                22     0.000745                6               0.0   \n",
       "3                19     0.000426                7               0.0   \n",
       "4                15     0.001174                4               0.0   \n",
       "\n",
       "   ComplexAbilitiesUsed  \n",
       "0              0.000000  \n",
       "1              0.000208  \n",
       "2              0.000189  \n",
       "3              0.000384  \n",
       "4              0.000019  "
      ]
     },
     "execution_count": 2,
     "metadata": {},
     "output_type": "execute_result"
    }
   ],
   "source": [
    "# read in data\n",
    "data = pd.read_csv('starcraft_player_data.csv')\n",
    "data.head()"
   ]
  },
  {
   "attachments": {},
   "cell_type": "markdown",
   "metadata": {},
   "source": [
    "# Preprocessing and EDA"
   ]
  },
  {
   "cell_type": "code",
   "execution_count": 3,
   "metadata": {},
   "outputs": [
    {
     "data": {
      "text/plain": [
       "GameID                  0.000000\n",
       "LeagueIndex             0.000000\n",
       "Age                     1.620029\n",
       "HoursPerWeek            1.649485\n",
       "TotalHours              1.678940\n",
       "APM                     0.000000\n",
       "SelectByHotkeys         0.000000\n",
       "AssignToHotkeys         0.000000\n",
       "UniqueHotkeys           0.000000\n",
       "MinimapAttacks          0.000000\n",
       "MinimapRightClicks      0.000000\n",
       "NumberOfPACs            0.000000\n",
       "GapBetweenPACs          0.000000\n",
       "ActionLatency           0.000000\n",
       "ActionsInPAC            0.000000\n",
       "TotalMapExplored        0.000000\n",
       "WorkersMade             0.000000\n",
       "UniqueUnitsMade         0.000000\n",
       "ComplexUnitsMade        0.000000\n",
       "ComplexAbilitiesUsed    0.000000\n",
       "dtype: float64"
      ]
     },
     "execution_count": 3,
     "metadata": {},
     "output_type": "execute_result"
    }
   ],
   "source": [
    "# calculate proportion of rows with missing values or nonnumeric values since all features are numeric\n",
    "data = data.apply(lambda x: pd.to_numeric(x, errors='coerce'))\n",
    "data.isna().sum() / len(data) * 100"
   ]
  },
  {
   "cell_type": "code",
   "execution_count": 4,
   "metadata": {},
   "outputs": [],
   "source": [
    "# since proportion of missing/nonnumeric values is small, I will just drop them\n",
    "data = data.dropna()"
   ]
  },
  {
   "cell_type": "code",
   "execution_count": 5,
   "metadata": {},
   "outputs": [],
   "source": [
    "# create feature called rank that records LeagueIndex <= 5 as low and League Index > 5 as high to allow for binary classification and simpler interpretation\n",
    "# then dropped LeagueIndex\n",
    "# also dropped GameID since it is a predictor that I can assume does not have an effect on the game (this also simplifies the model)\n",
    "data['rank'] = np.where(data['LeagueIndex'] <= 5, 'low', 'high')\n",
    "data = data.drop('LeagueIndex', axis=1)\n",
    "data = data.drop('GameID', axis=1)"
   ]
  },
  {
   "cell_type": "code",
   "execution_count": 6,
   "metadata": {},
   "outputs": [
    {
     "data": {
      "text/plain": [
       "<Axes: title={'center': 'Count of Ranks'}, xlabel='rank'>"
      ]
     },
     "execution_count": 6,
     "metadata": {},
     "output_type": "execute_result"
    },
    {
     "data": {
      "image/png": "[encoded data removed]",
      "text/plain": [
       "<Figure size 432x288 with 1 Axes>"
      ]
     },
     "metadata": {
      "needs_background": "light"
     },
     "output_type": "display_data"
    }
   ],
   "source": [
    "# look at distribution of ranks\n",
    "data['rank'].value_counts().plot(kind='bar', title='Count of Ranks')"
   ]
  },
  {
   "attachments": {},
   "cell_type": "markdown",
   "metadata": {},
   "source": [
    "There are a lot more low rank players than high rank players in the dataset."
   ]
  },
  {
   "cell_type": "code",
   "execution_count": 7,
   "metadata": {},
   "outputs": [
    {
     "data": {
      "text/plain": [
       "Text(0.5, 1.0, 'Distribution of TotalMapExplored by Rank')"
      ]
     },
     "execution_count": 7,
     "metadata": {},
     "output_type": "execute_result"
    },
    {
     "data": {
      "image/png": "[encoded data removed]",
      "text/plain": [
       "<Figure size 432x288 with 1 Axes>"
      ]
     },
     "metadata": {
      "needs_background": "light"
     },
     "output_type": "display_data"
    }
   ],
   "source": [
    "# look at distribution of TotalMapExplored by rank\n",
    "sns.boxplot(data, x='rank', y='TotalMapExplored').set_title('Distribution of TotalMapExplored by Rank')"
   ]
  },
  {
   "attachments": {},
   "cell_type": "markdown",
   "metadata": {},
   "source": [
    "Higher rank players generally look at the map more."
   ]
  },
  {
   "cell_type": "code",
   "execution_count": 8,
   "metadata": {},
   "outputs": [
    {
     "data": {
      "text/plain": [
       "Text(0.5, 1.0, 'Distribution of APM by Rank')"
      ]
     },
     "execution_count": 8,
     "metadata": {},
     "output_type": "execute_result"
    },
    {
     "data": {
      "image/png": "[encoded data removed]",
      "text/plain": [
       "<Figure size 432x288 with 1 Axes>"
      ]
     },
     "metadata": {
      "needs_background": "light"
     },
     "output_type": "display_data"
    }
   ],
   "source": [
    "# look at distribution of APM by rank\n",
    "sns.boxplot(data, x='rank', y='APM').set_title('Distribution of APM by Rank')"
   ]
  },
  {
   "attachments": {},
   "cell_type": "markdown",
   "metadata": {},
   "source": [
    "Higher ranks generally have a higher APM."
   ]
  },
  {
   "cell_type": "code",
   "execution_count": 9,
   "metadata": {},
   "outputs": [
    {
     "data": {
      "text/plain": [
       "Text(0.5, 1.0, 'Distribution of Age by Rank')"
      ]
     },
     "execution_count": 9,
     "metadata": {},
     "output_type": "execute_result"
    },
    {
     "data": {
      "image/png": "[encoded data removed]",
      "text/plain": [
       "<Figure size 432x288 with 1 Axes>"
      ]
     },
     "metadata": {
      "needs_background": "light"
     },
     "output_type": "display_data"
    }
   ],
   "source": [
    "# look at distribution of age by rank\n",
    "sns.boxplot(data, x='rank', y='Age').set_title('Distribution of Age by Rank')"
   ]
  },
  {
   "attachments": {},
   "cell_type": "markdown",
   "metadata": {},
   "source": [
    "There is no significant difference in age between high and low rank, but there is a greater amount of particularly older players in low rank. This makes sense when we consider the aging curve in gaming. "
   ]
  },
  {
   "cell_type": "code",
   "execution_count": 10,
   "metadata": {},
   "outputs": [
    {
     "data": {
      "text/plain": [
       "Text(0.5, 1.0, 'Distribution of Number of PACs by Rank')"
      ]
     },
     "execution_count": 10,
     "metadata": {},
     "output_type": "execute_result"
    },
    {
     "data": {
      "image/png": "[encoded data removed]",
      "text/plain": [
       "<Figure size 432x288 with 1 Axes>"
      ]
     },
     "metadata": {
      "needs_background": "light"
     },
     "output_type": "display_data"
    }
   ],
   "source": [
    "# look at distribution of number of PACs by rank and also actions in PC by rank\n",
    "sns.boxplot(data, x='rank', y='NumberOfPACs').set_title('Distribution of Number of PACs by Rank')"
   ]
  },
  {
   "cell_type": "code",
   "execution_count": 11,
   "metadata": {},
   "outputs": [
    {
     "data": {
      "text/plain": [
       "Text(0.5, 1.0, 'Distribution of Actions in PAC by Rank')"
      ]
     },
     "execution_count": 11,
     "metadata": {},
     "output_type": "execute_result"
    },
    {
     "data": {
      "image/png": "[encoded data removed]",
      "text/plain": [
       "<Figure size 432x288 with 1 Axes>"
      ]
     },
     "metadata": {
      "needs_background": "light"
     },
     "output_type": "display_data"
    }
   ],
   "source": [
    "sns.boxplot(data, x='rank', y='ActionsInPAC').set_title('Distribution of Actions in PAC by Rank')"
   ]
  },
  {
   "attachments": {},
   "cell_type": "markdown",
   "metadata": {},
   "source": [
    "Higher ranks generally perform more PACs, but the number of actions in PACs is not significantly different between the two ranks. However, lower rank has a greater amount of players who have a particularly high amount of actions in PAC. This suggests that some low rank players display the level of skill seen in high rank players. "
   ]
  },
  {
   "cell_type": "code",
   "execution_count": 12,
   "metadata": {},
   "outputs": [
    {
     "data": {
      "text/html": [
       "<div>\n",
       "<style scoped>\n",
       "    .dataframe tbody tr th:only-of-type {\n",
       "        vertical-align: middle;\n",
       "    }\n",
       "\n",
       "    .dataframe tbody tr th {\n",
       "        vertical-align: top;\n",
       "    }\n",
       "\n",
       "    .dataframe thead th {\n",
       "        text-align: right;\n",
       "    }\n",
       "</style>\n",
       "<table border=\"1\" class=\"dataframe\">\n",
       "  <thead>\n",
       "    <tr style=\"text-align: right;\">\n",
       "      <th></th>\n",
       "      <th>Age</th>\n",
       "      <th>HoursPerWeek</th>\n",
       "      <th>TotalHours</th>\n",
       "      <th>APM</th>\n",
       "      <th>SelectByHotkeys</th>\n",
       "      <th>AssignToHotkeys</th>\n",
       "      <th>UniqueHotkeys</th>\n",
       "      <th>MinimapAttacks</th>\n",
       "      <th>MinimapRightClicks</th>\n",
       "      <th>NumberOfPACs</th>\n",
       "      <th>GapBetweenPACs</th>\n",
       "      <th>ActionLatency</th>\n",
       "      <th>ActionsInPAC</th>\n",
       "      <th>TotalMapExplored</th>\n",
       "      <th>WorkersMade</th>\n",
       "      <th>UniqueUnitsMade</th>\n",
       "      <th>ComplexUnitsMade</th>\n",
       "      <th>ComplexAbilitiesUsed</th>\n",
       "      <th>rank</th>\n",
       "    </tr>\n",
       "  </thead>\n",
       "  <tbody>\n",
       "    <tr>\n",
       "      <th>Age</th>\n",
       "      <td>1.000000</td>\n",
       "      <td>-0.184431</td>\n",
       "      <td>-0.016630</td>\n",
       "      <td>-0.210724</td>\n",
       "      <td>-0.131105</td>\n",
       "      <td>-0.104960</td>\n",
       "      <td>0.015119</td>\n",
       "      <td>0.043100</td>\n",
       "      <td>-0.019904</td>\n",
       "      <td>-0.197128</td>\n",
       "      <td>0.112106</td>\n",
       "      <td>0.240240</td>\n",
       "      <td>-0.045893</td>\n",
       "      <td>-0.024191</td>\n",
       "      <td>-0.092291</td>\n",
       "      <td>0.022893</td>\n",
       "      <td>-0.080269</td>\n",
       "      <td>-0.065603</td>\n",
       "      <td>-0.111257</td>\n",
       "    </tr>\n",
       "    <tr>\n",
       "      <th>HoursPerWeek</th>\n",
       "      <td>-0.184431</td>\n",
       "      <td>1.000000</td>\n",
       "      <td>0.024306</td>\n",
       "      <td>0.246897</td>\n",
       "      <td>0.205792</td>\n",
       "      <td>0.158316</td>\n",
       "      <td>0.070262</td>\n",
       "      <td>0.084103</td>\n",
       "      <td>0.049498</td>\n",
       "      <td>0.174871</td>\n",
       "      <td>-0.133838</td>\n",
       "      <td>-0.188735</td>\n",
       "      <td>0.095271</td>\n",
       "      <td>0.064896</td>\n",
       "      <td>0.050679</td>\n",
       "      <td>0.038524</td>\n",
       "      <td>0.059285</td>\n",
       "      <td>0.074713</td>\n",
       "      <td>0.237550</td>\n",
       "    </tr>\n",
       "    <tr>\n",
       "      <th>TotalHours</th>\n",
       "      <td>-0.016630</td>\n",
       "      <td>0.024306</td>\n",
       "      <td>1.000000</td>\n",
       "      <td>0.072850</td>\n",
       "      <td>0.081830</td>\n",
       "      <td>0.042415</td>\n",
       "      <td>0.009318</td>\n",
       "      <td>0.000869</td>\n",
       "      <td>0.007662</td>\n",
       "      <td>0.039577</td>\n",
       "      <td>-0.020644</td>\n",
       "      <td>-0.035700</td>\n",
       "      <td>0.010704</td>\n",
       "      <td>0.020486</td>\n",
       "      <td>0.014828</td>\n",
       "      <td>-0.002379</td>\n",
       "      <td>-0.007154</td>\n",
       "      <td>-0.006311</td>\n",
       "      <td>0.001702</td>\n",
       "    </tr>\n",
       "    <tr>\n",
       "      <th>APM</th>\n",
       "      <td>-0.210724</td>\n",
       "      <td>0.246897</td>\n",
       "      <td>0.072850</td>\n",
       "      <td>1.000000</td>\n",
       "      <td>0.814624</td>\n",
       "      <td>0.534134</td>\n",
       "      <td>0.335986</td>\n",
       "      <td>0.218562</td>\n",
       "      <td>0.306392</td>\n",
       "      <td>0.635248</td>\n",
       "      <td>-0.567396</td>\n",
       "      <td>-0.722253</td>\n",
       "      <td>0.402928</td>\n",
       "      <td>0.239336</td>\n",
       "      <td>0.377719</td>\n",
       "      <td>0.122916</td>\n",
       "      <td>0.161774</td>\n",
       "      <td>0.141060</td>\n",
       "      <td>0.470403</td>\n",
       "    </tr>\n",
       "    <tr>\n",
       "      <th>SelectByHotkeys</th>\n",
       "      <td>-0.131105</td>\n",
       "      <td>0.205792</td>\n",
       "      <td>0.081830</td>\n",
       "      <td>0.814624</td>\n",
       "      <td>1.000000</td>\n",
       "      <td>0.450342</td>\n",
       "      <td>0.274030</td>\n",
       "      <td>0.132723</td>\n",
       "      <td>0.107615</td>\n",
       "      <td>0.360057</td>\n",
       "      <td>-0.273767</td>\n",
       "      <td>-0.390012</td>\n",
       "      <td>0.166964</td>\n",
       "      <td>0.097397</td>\n",
       "      <td>0.161404</td>\n",
       "      <td>0.027628</td>\n",
       "      <td>0.065467</td>\n",
       "      <td>0.063720</td>\n",
       "      <td>0.368282</td>\n",
       "    </tr>\n",
       "    <tr>\n",
       "      <th>AssignToHotkeys</th>\n",
       "      <td>-0.104960</td>\n",
       "      <td>0.158316</td>\n",
       "      <td>0.042415</td>\n",
       "      <td>0.534134</td>\n",
       "      <td>0.450342</td>\n",
       "      <td>1.000000</td>\n",
       "      <td>0.402555</td>\n",
       "      <td>0.205436</td>\n",
       "      <td>0.154998</td>\n",
       "      <td>0.454480</td>\n",
       "      <td>-0.377926</td>\n",
       "      <td>-0.461496</td>\n",
       "      <td>0.091508</td>\n",
       "      <td>0.201862</td>\n",
       "      <td>0.197011</td>\n",
       "      <td>0.149329</td>\n",
       "      <td>0.169849</td>\n",
       "      <td>0.169048</td>\n",
       "      <td>0.373870</td>\n",
       "    </tr>\n",
       "    <tr>\n",
       "      <th>UniqueHotkeys</th>\n",
       "      <td>0.015119</td>\n",
       "      <td>0.070262</td>\n",
       "      <td>0.009318</td>\n",
       "      <td>0.335986</td>\n",
       "      <td>0.274030</td>\n",
       "      <td>0.402555</td>\n",
       "      <td>1.000000</td>\n",
       "      <td>0.151029</td>\n",
       "      <td>0.124570</td>\n",
       "      <td>0.353112</td>\n",
       "      <td>-0.223745</td>\n",
       "      <td>-0.304583</td>\n",
       "      <td>-0.022227</td>\n",
       "      <td>0.267940</td>\n",
       "      <td>0.111319</td>\n",
       "      <td>0.233274</td>\n",
       "      <td>0.122352</td>\n",
       "      <td>0.110004</td>\n",
       "      <td>0.269662</td>\n",
       "    </tr>\n",
       "    <tr>\n",
       "      <th>MinimapAttacks</th>\n",
       "      <td>0.043100</td>\n",
       "      <td>0.084103</td>\n",
       "      <td>0.000869</td>\n",
       "      <td>0.218562</td>\n",
       "      <td>0.132723</td>\n",
       "      <td>0.205436</td>\n",
       "      <td>0.151029</td>\n",
       "      <td>1.000000</td>\n",
       "      <td>0.224683</td>\n",
       "      <td>0.137745</td>\n",
       "      <td>-0.213330</td>\n",
       "      <td>-0.171464</td>\n",
       "      <td>0.133712</td>\n",
       "      <td>0.164110</td>\n",
       "      <td>0.082283</td>\n",
       "      <td>0.125035</td>\n",
       "      <td>0.052225</td>\n",
       "      <td>0.042265</td>\n",
       "      <td>0.223087</td>\n",
       "    </tr>\n",
       "    <tr>\n",
       "      <th>MinimapRightClicks</th>\n",
       "      <td>-0.019904</td>\n",
       "      <td>0.049498</td>\n",
       "      <td>0.007662</td>\n",
       "      <td>0.306392</td>\n",
       "      <td>0.107615</td>\n",
       "      <td>0.154998</td>\n",
       "      <td>0.124570</td>\n",
       "      <td>0.224683</td>\n",
       "      <td>1.000000</td>\n",
       "      <td>0.143538</td>\n",
       "      <td>-0.244542</td>\n",
       "      <td>-0.216644</td>\n",
       "      <td>0.323707</td>\n",
       "      <td>0.173514</td>\n",
       "      <td>0.212464</td>\n",
       "      <td>0.154447</td>\n",
       "      <td>0.097992</td>\n",
       "      <td>0.095659</td>\n",
       "      <td>0.135147</td>\n",
       "    </tr>\n",
       "    <tr>\n",
       "      <th>NumberOfPACs</th>\n",
       "      <td>-0.197128</td>\n",
       "      <td>0.174871</td>\n",
       "      <td>0.039577</td>\n",
       "      <td>0.635248</td>\n",
       "      <td>0.360057</td>\n",
       "      <td>0.454480</td>\n",
       "      <td>0.353112</td>\n",
       "      <td>0.137745</td>\n",
       "      <td>0.143538</td>\n",
       "      <td>1.000000</td>\n",
       "      <td>-0.491407</td>\n",
       "      <td>-0.817162</td>\n",
       "      <td>-0.242571</td>\n",
       "      <td>0.470955</td>\n",
       "      <td>0.282204</td>\n",
       "      <td>0.322181</td>\n",
       "      <td>0.196269</td>\n",
       "      <td>0.177696</td>\n",
       "      <td>0.432700</td>\n",
       "    </tr>\n",
       "    <tr>\n",
       "      <th>GapBetweenPACs</th>\n",
       "      <td>0.112106</td>\n",
       "      <td>-0.133838</td>\n",
       "      <td>-0.020644</td>\n",
       "      <td>-0.567396</td>\n",
       "      <td>-0.273767</td>\n",
       "      <td>-0.377926</td>\n",
       "      <td>-0.223745</td>\n",
       "      <td>-0.213330</td>\n",
       "      <td>-0.244542</td>\n",
       "      <td>-0.491407</td>\n",
       "      <td>1.000000</td>\n",
       "      <td>0.680483</td>\n",
       "      <td>-0.310242</td>\n",
       "      <td>-0.094693</td>\n",
       "      <td>-0.237157</td>\n",
       "      <td>-0.089708</td>\n",
       "      <td>-0.082924</td>\n",
       "      <td>-0.092005</td>\n",
       "      <td>-0.315845</td>\n",
       "    </tr>\n",
       "    <tr>\n",
       "      <th>ActionLatency</th>\n",
       "      <td>0.240240</td>\n",
       "      <td>-0.188735</td>\n",
       "      <td>-0.035700</td>\n",
       "      <td>-0.722253</td>\n",
       "      <td>-0.390012</td>\n",
       "      <td>-0.461496</td>\n",
       "      <td>-0.304583</td>\n",
       "      <td>-0.171464</td>\n",
       "      <td>-0.216644</td>\n",
       "      <td>-0.817162</td>\n",
       "      <td>0.680483</td>\n",
       "      <td>1.000000</td>\n",
       "      <td>-0.106505</td>\n",
       "      <td>-0.349350</td>\n",
       "      <td>-0.313692</td>\n",
       "      <td>-0.223191</td>\n",
       "      <td>-0.198054</td>\n",
       "      <td>-0.189681</td>\n",
       "      <td>-0.408466</td>\n",
       "    </tr>\n",
       "    <tr>\n",
       "      <th>ActionsInPAC</th>\n",
       "      <td>-0.045893</td>\n",
       "      <td>0.095271</td>\n",
       "      <td>0.010704</td>\n",
       "      <td>0.402928</td>\n",
       "      <td>0.166964</td>\n",
       "      <td>0.091508</td>\n",
       "      <td>-0.022227</td>\n",
       "      <td>0.133712</td>\n",
       "      <td>0.323707</td>\n",
       "      <td>-0.242571</td>\n",
       "      <td>-0.310242</td>\n",
       "      <td>-0.106505</td>\n",
       "      <td>1.000000</td>\n",
       "      <td>-0.156688</td>\n",
       "      <td>0.253734</td>\n",
       "      <td>-0.134873</td>\n",
       "      <td>0.054312</td>\n",
       "      <td>0.053406</td>\n",
       "      <td>0.064374</td>\n",
       "    </tr>\n",
       "    <tr>\n",
       "      <th>TotalMapExplored</th>\n",
       "      <td>-0.024191</td>\n",
       "      <td>0.064896</td>\n",
       "      <td>0.020486</td>\n",
       "      <td>0.239336</td>\n",
       "      <td>0.097397</td>\n",
       "      <td>0.201862</td>\n",
       "      <td>0.267940</td>\n",
       "      <td>0.164110</td>\n",
       "      <td>0.173514</td>\n",
       "      <td>0.470955</td>\n",
       "      <td>-0.094693</td>\n",
       "      <td>-0.349350</td>\n",
       "      <td>-0.156688</td>\n",
       "      <td>1.000000</td>\n",
       "      <td>0.131511</td>\n",
       "      <td>0.575231</td>\n",
       "      <td>0.309039</td>\n",
       "      <td>0.251355</td>\n",
       "      <td>0.158828</td>\n",
       "    </tr>\n",
       "    <tr>\n",
       "      <th>WorkersMade</th>\n",
       "      <td>-0.092291</td>\n",
       "      <td>0.050679</td>\n",
       "      <td>0.014828</td>\n",
       "      <td>0.377719</td>\n",
       "      <td>0.161404</td>\n",
       "      <td>0.197011</td>\n",
       "      <td>0.111319</td>\n",
       "      <td>0.082283</td>\n",
       "      <td>0.212464</td>\n",
       "      <td>0.282204</td>\n",
       "      <td>-0.237157</td>\n",
       "      <td>-0.313692</td>\n",
       "      <td>0.253734</td>\n",
       "      <td>0.131511</td>\n",
       "      <td>1.000000</td>\n",
       "      <td>0.112389</td>\n",
       "      <td>0.203270</td>\n",
       "      <td>0.104955</td>\n",
       "      <td>0.172904</td>\n",
       "    </tr>\n",
       "    <tr>\n",
       "      <th>UniqueUnitsMade</th>\n",
       "      <td>0.022893</td>\n",
       "      <td>0.038524</td>\n",
       "      <td>-0.002379</td>\n",
       "      <td>0.122916</td>\n",
       "      <td>0.027628</td>\n",
       "      <td>0.149329</td>\n",
       "      <td>0.233274</td>\n",
       "      <td>0.125035</td>\n",
       "      <td>0.154447</td>\n",
       "      <td>0.322181</td>\n",
       "      <td>-0.089708</td>\n",
       "      <td>-0.223191</td>\n",
       "      <td>-0.134873</td>\n",
       "      <td>0.575231</td>\n",
       "      <td>0.112389</td>\n",
       "      <td>1.000000</td>\n",
       "      <td>0.382217</td>\n",
       "      <td>0.294409</td>\n",
       "      <td>0.089667</td>\n",
       "    </tr>\n",
       "    <tr>\n",
       "      <th>ComplexUnitsMade</th>\n",
       "      <td>-0.080269</td>\n",
       "      <td>0.059285</td>\n",
       "      <td>-0.007154</td>\n",
       "      <td>0.161774</td>\n",
       "      <td>0.065467</td>\n",
       "      <td>0.169849</td>\n",
       "      <td>0.122352</td>\n",
       "      <td>0.052225</td>\n",
       "      <td>0.097992</td>\n",
       "      <td>0.196269</td>\n",
       "      <td>-0.082924</td>\n",
       "      <td>-0.198054</td>\n",
       "      <td>0.054312</td>\n",
       "      <td>0.309039</td>\n",
       "      <td>0.203270</td>\n",
       "      <td>0.382217</td>\n",
       "      <td>1.000000</td>\n",
       "      <td>0.620551</td>\n",
       "      <td>0.078393</td>\n",
       "    </tr>\n",
       "    <tr>\n",
       "      <th>ComplexAbilitiesUsed</th>\n",
       "      <td>-0.065603</td>\n",
       "      <td>0.074713</td>\n",
       "      <td>-0.006311</td>\n",
       "      <td>0.141060</td>\n",
       "      <td>0.063720</td>\n",
       "      <td>0.169048</td>\n",
       "      <td>0.110004</td>\n",
       "      <td>0.042265</td>\n",
       "      <td>0.095659</td>\n",
       "      <td>0.177696</td>\n",
       "      <td>-0.092005</td>\n",
       "      <td>-0.189681</td>\n",
       "      <td>0.053406</td>\n",
       "      <td>0.251355</td>\n",
       "      <td>0.104955</td>\n",
       "      <td>0.294409</td>\n",
       "      <td>0.620551</td>\n",
       "      <td>1.000000</td>\n",
       "      <td>0.082907</td>\n",
       "    </tr>\n",
       "    <tr>\n",
       "      <th>rank</th>\n",
       "      <td>-0.111257</td>\n",
       "      <td>0.237550</td>\n",
       "      <td>0.001702</td>\n",
       "      <td>0.470403</td>\n",
       "      <td>0.368282</td>\n",
       "      <td>0.373870</td>\n",
       "      <td>0.269662</td>\n",
       "      <td>0.223087</td>\n",
       "      <td>0.135147</td>\n",
       "      <td>0.432700</td>\n",
       "      <td>-0.315845</td>\n",
       "      <td>-0.408466</td>\n",
       "      <td>0.064374</td>\n",
       "      <td>0.158828</td>\n",
       "      <td>0.172904</td>\n",
       "      <td>0.089667</td>\n",
       "      <td>0.078393</td>\n",
       "      <td>0.082907</td>\n",
       "      <td>1.000000</td>\n",
       "    </tr>\n",
       "  </tbody>\n",
       "</table>\n",
       "</div>"
      ],
      "text/plain": [
       "                           Age  HoursPerWeek  TotalHours       APM   \n",
       "Age                   1.000000     -0.184431   -0.016630 -0.210724  \\\n",
       "HoursPerWeek         -0.184431      1.000000    0.024306  0.246897   \n",
       "TotalHours           -0.016630      0.024306    1.000000  0.072850   \n",
       "APM                  -0.210724      0.246897    0.072850  1.000000   \n",
       "SelectByHotkeys      -0.131105      0.205792    0.081830  0.814624   \n",
       "AssignToHotkeys      -0.104960      0.158316    0.042415  0.534134   \n",
       "UniqueHotkeys         0.015119      0.070262    0.009318  0.335986   \n",
       "MinimapAttacks        0.043100      0.084103    0.000869  0.218562   \n",
       "MinimapRightClicks   -0.019904      0.049498    0.007662  0.306392   \n",
       "NumberOfPACs         -0.197128      0.174871    0.039577  0.635248   \n",
       "GapBetweenPACs        0.112106     -0.133838   -0.020644 -0.567396   \n",
       "ActionLatency         0.240240     -0.188735   -0.035700 -0.722253   \n",
       "ActionsInPAC         -0.045893      0.095271    0.010704  0.402928   \n",
       "TotalMapExplored     -0.024191      0.064896    0.020486  0.239336   \n",
       "WorkersMade          -0.092291      0.050679    0.014828  0.377719   \n",
       "UniqueUnitsMade       0.022893      0.038524   -0.002379  0.122916   \n",
       "ComplexUnitsMade     -0.080269      0.059285   -0.007154  0.161774   \n",
       "ComplexAbilitiesUsed -0.065603      0.074713   -0.006311  0.141060   \n",
       "rank                 -0.111257      0.237550    0.001702  0.470403   \n",
       "\n",
       "                      SelectByHotkeys  AssignToHotkeys  UniqueHotkeys   \n",
       "Age                         -0.131105        -0.104960       0.015119  \\\n",
       "HoursPerWeek                 0.205792         0.158316       0.070262   \n",
       "TotalHours                   0.081830         0.042415       0.009318   \n",
       "APM                          0.814624         0.534134       0.335986   \n",
       "SelectByHotkeys              1.000000         0.450342       0.274030   \n",
       "AssignToHotkeys              0.450342         1.000000       0.402555   \n",
       "UniqueHotkeys                0.274030         0.402555       1.000000   \n",
       "MinimapAttacks               0.132723         0.205436       0.151029   \n",
       "MinimapRightClicks           0.107615         0.154998       0.124570   \n",
       "NumberOfPACs                 0.360057         0.454480       0.353112   \n",
       "GapBetweenPACs              -0.273767        -0.377926      -0.223745   \n",
       "ActionLatency               -0.390012        -0.461496      -0.304583   \n",
       "ActionsInPAC                 0.166964         0.091508      -0.022227   \n",
       "TotalMapExplored             0.097397         0.201862       0.267940   \n",
       "WorkersMade                  0.161404         0.197011       0.111319   \n",
       "UniqueUnitsMade              0.027628         0.149329       0.233274   \n",
       "ComplexUnitsMade             0.065467         0.169849       0.122352   \n",
       "ComplexAbilitiesUsed         0.063720         0.169048       0.110004   \n",
       "rank                         0.368282         0.373870       0.269662   \n",
       "\n",
       "                      MinimapAttacks  MinimapRightClicks  NumberOfPACs   \n",
       "Age                         0.043100           -0.019904     -0.197128  \\\n",
       "HoursPerWeek                0.084103            0.049498      0.174871   \n",
       "TotalHours                  0.000869            0.007662      0.039577   \n",
       "APM                         0.218562            0.306392      0.635248   \n",
       "SelectByHotkeys             0.132723            0.107615      0.360057   \n",
       "AssignToHotkeys             0.205436            0.154998      0.454480   \n",
       "UniqueHotkeys               0.151029            0.124570      0.353112   \n",
       "MinimapAttacks              1.000000            0.224683      0.137745   \n",
       "MinimapRightClicks          0.224683            1.000000      0.143538   \n",
       "NumberOfPACs                0.137745            0.143538      1.000000   \n",
       "GapBetweenPACs             -0.213330           -0.244542     -0.491407   \n",
       "ActionLatency              -0.171464           -0.216644     -0.817162   \n",
       "ActionsInPAC                0.133712            0.323707     -0.242571   \n",
       "TotalMapExplored            0.164110            0.173514      0.470955   \n",
       "WorkersMade                 0.082283            0.212464      0.282204   \n",
       "UniqueUnitsMade             0.125035            0.154447      0.322181   \n",
       "ComplexUnitsMade            0.052225            0.097992      0.196269   \n",
       "ComplexAbilitiesUsed        0.042265            0.095659      0.177696   \n",
       "rank                        0.223087            0.135147      0.432700   \n",
       "\n",
       "                      GapBetweenPACs  ActionLatency  ActionsInPAC   \n",
       "Age                         0.112106       0.240240     -0.045893  \\\n",
       "HoursPerWeek               -0.133838      -0.188735      0.095271   \n",
       "TotalHours                 -0.020644      -0.035700      0.010704   \n",
       "APM                        -0.567396      -0.722253      0.402928   \n",
       "SelectByHotkeys            -0.273767      -0.390012      0.166964   \n",
       "AssignToHotkeys            -0.377926      -0.461496      0.091508   \n",
       "UniqueHotkeys              -0.223745      -0.304583     -0.022227   \n",
       "MinimapAttacks             -0.213330      -0.171464      0.133712   \n",
       "MinimapRightClicks         -0.244542      -0.216644      0.323707   \n",
       "NumberOfPACs               -0.491407      -0.817162     -0.242571   \n",
       "GapBetweenPACs              1.000000       0.680483     -0.310242   \n",
       "ActionLatency               0.680483       1.000000     -0.106505   \n",
       "ActionsInPAC               -0.310242      -0.106505      1.000000   \n",
       "TotalMapExplored           -0.094693      -0.349350     -0.156688   \n",
       "WorkersMade                -0.237157      -0.313692      0.253734   \n",
       "UniqueUnitsMade            -0.089708      -0.223191     -0.134873   \n",
       "ComplexUnitsMade           -0.082924      -0.198054      0.054312   \n",
       "ComplexAbilitiesUsed       -0.092005      -0.189681      0.053406   \n",
       "rank                       -0.315845      -0.408466      0.064374   \n",
       "\n",
       "                      TotalMapExplored  WorkersMade  UniqueUnitsMade   \n",
       "Age                          -0.024191    -0.092291         0.022893  \\\n",
       "HoursPerWeek                  0.064896     0.050679         0.038524   \n",
       "TotalHours                    0.020486     0.014828        -0.002379   \n",
       "APM                           0.239336     0.377719         0.122916   \n",
       "SelectByHotkeys               0.097397     0.161404         0.027628   \n",
       "AssignToHotkeys               0.201862     0.197011         0.149329   \n",
       "UniqueHotkeys                 0.267940     0.111319         0.233274   \n",
       "MinimapAttacks                0.164110     0.082283         0.125035   \n",
       "MinimapRightClicks            0.173514     0.212464         0.154447   \n",
       "NumberOfPACs                  0.470955     0.282204         0.322181   \n",
       "GapBetweenPACs               -0.094693    -0.237157        -0.089708   \n",
       "ActionLatency                -0.349350    -0.313692        -0.223191   \n",
       "ActionsInPAC                 -0.156688     0.253734        -0.134873   \n",
       "TotalMapExplored              1.000000     0.131511         0.575231   \n",
       "WorkersMade                   0.131511     1.000000         0.112389   \n",
       "UniqueUnitsMade               0.575231     0.112389         1.000000   \n",
       "ComplexUnitsMade              0.309039     0.203270         0.382217   \n",
       "ComplexAbilitiesUsed          0.251355     0.104955         0.294409   \n",
       "rank                          0.158828     0.172904         0.089667   \n",
       "\n",
       "                      ComplexUnitsMade  ComplexAbilitiesUsed      rank  \n",
       "Age                          -0.080269             -0.065603 -0.111257  \n",
       "HoursPerWeek                  0.059285              0.074713  0.237550  \n",
       "TotalHours                   -0.007154             -0.006311  0.001702  \n",
       "APM                           0.161774              0.141060  0.470403  \n",
       "SelectByHotkeys               0.065467              0.063720  0.368282  \n",
       "AssignToHotkeys               0.169849              0.169048  0.373870  \n",
       "UniqueHotkeys                 0.122352              0.110004  0.269662  \n",
       "MinimapAttacks                0.052225              0.042265  0.223087  \n",
       "MinimapRightClicks            0.097992              0.095659  0.135147  \n",
       "NumberOfPACs                  0.196269              0.177696  0.432700  \n",
       "GapBetweenPACs               -0.082924             -0.092005 -0.315845  \n",
       "ActionLatency                -0.198054             -0.189681 -0.408466  \n",
       "ActionsInPAC                  0.054312              0.053406  0.064374  \n",
       "TotalMapExplored              0.309039              0.251355  0.158828  \n",
       "WorkersMade                   0.203270              0.104955  0.172904  \n",
       "UniqueUnitsMade               0.382217              0.294409  0.089667  \n",
       "ComplexUnitsMade              1.000000              0.620551  0.078393  \n",
       "ComplexAbilitiesUsed          0.620551              1.000000  0.082907  \n",
       "rank                          0.078393              0.082907  1.000000  "
      ]
     },
     "execution_count": 12,
     "metadata": {},
     "output_type": "execute_result"
    }
   ],
   "source": [
    "# look at correlation between features\n",
    "corr_data=data\n",
    "corr_data['rank'] = np.where(corr_data['rank'] == 'low', 0, 1)\n",
    "corr_data.corr()"
   ]
  },
  {
   "attachments": {},
   "cell_type": "markdown",
   "metadata": {},
   "source": [
    "APM and NumberOfPACs have the strongest positive correlation with rank. ActionsInPAC, UniqueUnitsMade, ComplexUnitsMade, and ComplexAbilitiesUsed have the weakest positive correlations with rank. Older age generally seems to be slightly related to slower actions but is not significantly related to rank. Also, interestingly enough, TotalMapExplored is moderately related to UniqueUnitsMade."
   ]
  },
  {
   "attachments": {},
   "cell_type": "markdown",
   "metadata": {},
   "source": [
    "# Model Building"
   ]
  },
  {
   "attachments": {},
   "cell_type": "markdown",
   "metadata": {},
   "source": [
    "## Logistic Regression\n",
    "I decided to build a logistic regression model, which is a popular model for binary classification."
   ]
  },
  {
   "cell_type": "code",
   "execution_count": 13,
   "metadata": {},
   "outputs": [
    {
     "data": {
      "text/html": [
       "<style>#sk-container-id-1 {color: black;background-color: white;}#sk-container-id-1 pre{padding: 0;}#sk-container-id-1 div.sk-toggleable {background-color: white;}#sk-container-id-1 label.sk-toggleable__label {cursor: pointer;display: block;width: 100%;margin-bottom: 0;padding: 0.3em;box-sizing: border-box;text-align: center;}#sk-container-id-1 label.sk-toggleable__label-arrow:before {content: \"▸\";float: left;margin-right: 0.25em;color: #696969;}#sk-container-id-1 label.sk-toggleable__label-arrow:hover:before {color: black;}#sk-container-id-1 div.sk-estimator:hover label.sk-toggleable__label-arrow:before {color: black;}#sk-container-id-1 div.sk-toggleable__content {max-height: 0;max-width: 0;overflow: hidden;text-align: left;background-color: #f0f8ff;}#sk-container-id-1 div.sk-toggleable__content pre {margin: 0.2em;color: black;border-radius: 0.25em;background-color: #f0f8ff;}#sk-container-id-1 input.sk-toggleable__control:checked~div.sk-toggleable__content {max-height: 200px;max-width: 100%;overflow: auto;}#sk-container-id-1 input.sk-toggleable__control:checked~label.sk-toggleable__label-arrow:before {content: \"▾\";}#sk-container-id-1 div.sk-estimator input.sk-toggleable__control:checked~label.sk-toggleable__label {background-color: #d4ebff;}#sk-container-id-1 div.sk-label input.sk-toggleable__control:checked~label.sk-toggleable__label {background-color: #d4ebff;}#sk-container-id-1 input.sk-hidden--visually {border: 0;clip: rect(1px 1px 1px 1px);clip: rect(1px, 1px, 1px, 1px);height: 1px;margin: -1px;overflow: hidden;padding: 0;position: absolute;width: 1px;}#sk-container-id-1 div.sk-estimator {font-family: monospace;background-color: #f0f8ff;border: 1px dotted black;border-radius: 0.25em;box-sizing: border-box;margin-bottom: 0.5em;}#sk-container-id-1 div.sk-estimator:hover {background-color: #d4ebff;}#sk-container-id-1 div.sk-parallel-item::after {content: \"\";width: 100%;border-bottom: 1px solid gray;flex-grow: 1;}#sk-container-id-1 div.sk-label:hover label.sk-toggleable__label {background-color: #d4ebff;}#sk-container-id-1 div.sk-serial::before {content: \"\";position: absolute;border-left: 1px solid gray;box-sizing: border-box;top: 0;bottom: 0;left: 50%;z-index: 0;}#sk-container-id-1 div.sk-serial {display: flex;flex-direction: column;align-items: center;background-color: white;padding-right: 0.2em;padding-left: 0.2em;position: relative;}#sk-container-id-1 div.sk-item {position: relative;z-index: 1;}#sk-container-id-1 div.sk-parallel {display: flex;align-items: stretch;justify-content: center;background-color: white;position: relative;}#sk-container-id-1 div.sk-item::before, #sk-container-id-1 div.sk-parallel-item::before {content: \"\";position: absolute;border-left: 1px solid gray;box-sizing: border-box;top: 0;bottom: 0;left: 50%;z-index: -1;}#sk-container-id-1 div.sk-parallel-item {display: flex;flex-direction: column;z-index: 1;position: relative;background-color: white;}#sk-container-id-1 div.sk-parallel-item:first-child::after {align-self: flex-end;width: 50%;}#sk-container-id-1 div.sk-parallel-item:last-child::after {align-self: flex-start;width: 50%;}#sk-container-id-1 div.sk-parallel-item:only-child::after {width: 0;}#sk-container-id-1 div.sk-dashed-wrapped {border: 1px dashed gray;margin: 0 0.4em 0.5em 0.4em;box-sizing: border-box;padding-bottom: 0.4em;background-color: white;}#sk-container-id-1 div.sk-label label {font-family: monospace;font-weight: bold;display: inline-block;line-height: 1.2em;}#sk-container-id-1 div.sk-label-container {text-align: center;}#sk-container-id-1 div.sk-container {/* jupyter's `normalize.less` sets `[hidden] { display: none; }` but bootstrap.min.css set `[hidden] { display: none !important; }` so we also need the `!important` here to be able to override the default hidden behavior on the sphinx rendered scikit-learn.org. See: https://github.com/scikit-learn/scikit-learn/issues/21755 */display: inline-block !important;position: relative;}#sk-container-id-1 div.sk-text-repr-fallback {display: none;}</style><div id=\"sk-container-id-1\" class=\"sk-top-container\"><div class=\"sk-text-repr-fallback\"><pre>LogisticRegression()</pre><b>In a Jupyter environment, please rerun this cell to show the HTML representation or trust the notebook. <br />On GitHub, the HTML representation is unable to render, please try loading this page with nbviewer.org.</b></div><div class=\"sk-container\" hidden><div class=\"sk-item\"><div class=\"sk-estimator sk-toggleable\"><input class=\"sk-toggleable__control sk-hidden--visually\" id=\"sk-estimator-id-1\" type=\"checkbox\" checked><label for=\"sk-estimator-id-1\" class=\"sk-toggleable__label sk-toggleable__label-arrow\">LogisticRegression</label><div class=\"sk-toggleable__content\"><pre>LogisticRegression()</pre></div></div></div></div></div>"
      ],
      "text/plain": [
       "LogisticRegression()"
      ]
     },
     "execution_count": 13,
     "metadata": {},
     "output_type": "execute_result"
    }
   ],
   "source": [
    "# training and testing split while stratifying rank since there are less high rank players\n",
    "x = data.drop(columns='rank')\n",
    "y = data['rank']\n",
    "x_train, x_test, y_train, y_test = train_test_split(x, y, test_size=.3, stratify=y, random_state=1114)\n",
    "\n",
    "# standardize training data\n",
    "scaler = StandardScaler()\n",
    "x_train_scaled = scaler.fit_transform(x_train)\n",
    "x_test_scaled = scaler.transform(x_test)\n",
    "\n",
    "# logistic regression\n",
    "log_reg = LogisticRegression()\n",
    "log_reg.fit(x_train_scaled, y_train)"
   ]
  },
  {
   "cell_type": "code",
   "execution_count": 14,
   "metadata": {},
   "outputs": [
    {
     "data": {
      "text/plain": [
       "0.8565924657534246"
      ]
     },
     "execution_count": 14,
     "metadata": {},
     "output_type": "execute_result"
    }
   ],
   "source": [
    "# model accuracy on training data\n",
    "log_reg.score(x_train_scaled, y_train)"
   ]
  },
  {
   "cell_type": "code",
   "execution_count": 15,
   "metadata": {},
   "outputs": [
    {
     "data": {
      "text/plain": [
       "0.8363273453093812"
      ]
     },
     "execution_count": 15,
     "metadata": {},
     "output_type": "execute_result"
    }
   ],
   "source": [
    "# model accuracy on testing data\n",
    "log_reg.score(x_test_scaled, y_test)"
   ]
  },
  {
   "attachments": {},
   "cell_type": "markdown",
   "metadata": {},
   "source": [
    "Accuracy is quite high for training and testing data, and the values are similar. Therefore, there is not much overfitting going on, and the predictors do a good job of predicting rank. "
   ]
  },
  {
   "cell_type": "code",
   "execution_count": 16,
   "metadata": {},
   "outputs": [
    {
     "data": {
      "image/png": "[encoded data removed]",
      "text/plain": [
       "<Figure size 432x288 with 2 Axes>"
      ]
     },
     "metadata": {
      "needs_background": "light"
     },
     "output_type": "display_data"
    }
   ],
   "source": [
    "# logistic regression confusion matrix\n",
    "y_pred = log_reg.predict(x_test_scaled)\n",
    "confusion_matrix = metrics.confusion_matrix(y_test, y_pred)\n",
    "cm_display = metrics.ConfusionMatrixDisplay(confusion_matrix=confusion_matrix)\n",
    "cm_display.plot()\n",
    "plt.show()"
   ]
  },
  {
   "attachments": {},
   "cell_type": "markdown",
   "metadata": {},
   "source": [
    "According to the confusion matrix, the logistic regression model fit to this dataset does a great job correctly predicting low rank players but not high rank players. The model predicts high rank players as low rank players slightly more frequently than correctly predicting them as high rank players. There is almost a 50/50 split between predicting high rank players as low rank and correctly predicting high rank players as high rank. "
   ]
  },
  {
   "attachments": {},
   "cell_type": "markdown",
   "metadata": {},
   "source": [
    "## Random Forest\n",
    "I also trained a random forest model to see if I could build a better performing model."
   ]
  },
  {
   "cell_type": "code",
   "execution_count": 17,
   "metadata": {},
   "outputs": [
    {
     "data": {
      "text/html": [
       "<style>#sk-container-id-2 {color: black;background-color: white;}#sk-container-id-2 pre{padding: 0;}#sk-container-id-2 div.sk-toggleable {background-color: white;}#sk-container-id-2 label.sk-toggleable__label {cursor: pointer;display: block;width: 100%;margin-bottom: 0;padding: 0.3em;box-sizing: border-box;text-align: center;}#sk-container-id-2 label.sk-toggleable__label-arrow:before {content: \"▸\";float: left;margin-right: 0.25em;color: #696969;}#sk-container-id-2 label.sk-toggleable__label-arrow:hover:before {color: black;}#sk-container-id-2 div.sk-estimator:hover label.sk-toggleable__label-arrow:before {color: black;}#sk-container-id-2 div.sk-toggleable__content {max-height: 0;max-width: 0;overflow: hidden;text-align: left;background-color: #f0f8ff;}#sk-container-id-2 div.sk-toggleable__content pre {margin: 0.2em;color: black;border-radius: 0.25em;background-color: #f0f8ff;}#sk-container-id-2 input.sk-toggleable__control:checked~div.sk-toggleable__content {max-height: 200px;max-width: 100%;overflow: auto;}#sk-container-id-2 input.sk-toggleable__control:checked~label.sk-toggleable__label-arrow:before {content: \"▾\";}#sk-container-id-2 div.sk-estimator input.sk-toggleable__control:checked~label.sk-toggleable__label {background-color: #d4ebff;}#sk-container-id-2 div.sk-label input.sk-toggleable__control:checked~label.sk-toggleable__label {background-color: #d4ebff;}#sk-container-id-2 input.sk-hidden--visually {border: 0;clip: rect(1px 1px 1px 1px);clip: rect(1px, 1px, 1px, 1px);height: 1px;margin: -1px;overflow: hidden;padding: 0;position: absolute;width: 1px;}#sk-container-id-2 div.sk-estimator {font-family: monospace;background-color: #f0f8ff;border: 1px dotted black;border-radius: 0.25em;box-sizing: border-box;margin-bottom: 0.5em;}#sk-container-id-2 div.sk-estimator:hover {background-color: #d4ebff;}#sk-container-id-2 div.sk-parallel-item::after {content: \"\";width: 100%;border-bottom: 1px solid gray;flex-grow: 1;}#sk-container-id-2 div.sk-label:hover label.sk-toggleable__label {background-color: #d4ebff;}#sk-container-id-2 div.sk-serial::before {content: \"\";position: absolute;border-left: 1px solid gray;box-sizing: border-box;top: 0;bottom: 0;left: 50%;z-index: 0;}#sk-container-id-2 div.sk-serial {display: flex;flex-direction: column;align-items: center;background-color: white;padding-right: 0.2em;padding-left: 0.2em;position: relative;}#sk-container-id-2 div.sk-item {position: relative;z-index: 1;}#sk-container-id-2 div.sk-parallel {display: flex;align-items: stretch;justify-content: center;background-color: white;position: relative;}#sk-container-id-2 div.sk-item::before, #sk-container-id-2 div.sk-parallel-item::before {content: \"\";position: absolute;border-left: 1px solid gray;box-sizing: border-box;top: 0;bottom: 0;left: 50%;z-index: -1;}#sk-container-id-2 div.sk-parallel-item {display: flex;flex-direction: column;z-index: 1;position: relative;background-color: white;}#sk-container-id-2 div.sk-parallel-item:first-child::after {align-self: flex-end;width: 50%;}#sk-container-id-2 div.sk-parallel-item:last-child::after {align-self: flex-start;width: 50%;}#sk-container-id-2 div.sk-parallel-item:only-child::after {width: 0;}#sk-container-id-2 div.sk-dashed-wrapped {border: 1px dashed gray;margin: 0 0.4em 0.5em 0.4em;box-sizing: border-box;padding-bottom: 0.4em;background-color: white;}#sk-container-id-2 div.sk-label label {font-family: monospace;font-weight: bold;display: inline-block;line-height: 1.2em;}#sk-container-id-2 div.sk-label-container {text-align: center;}#sk-container-id-2 div.sk-container {/* jupyter's `normalize.less` sets `[hidden] { display: none; }` but bootstrap.min.css set `[hidden] { display: none !important; }` so we also need the `!important` here to be able to override the default hidden behavior on the sphinx rendered scikit-learn.org. See: https://github.com/scikit-learn/scikit-learn/issues/21755 */display: inline-block !important;position: relative;}#sk-container-id-2 div.sk-text-repr-fallback {display: none;}</style><div id=\"sk-container-id-2\" class=\"sk-top-container\"><div class=\"sk-text-repr-fallback\"><pre>RandomForestClassifier(n_estimators=4)</pre><b>In a Jupyter environment, please rerun this cell to show the HTML representation or trust the notebook. <br />On GitHub, the HTML representation is unable to render, please try loading this page with nbviewer.org.</b></div><div class=\"sk-container\" hidden><div class=\"sk-item\"><div class=\"sk-estimator sk-toggleable\"><input class=\"sk-toggleable__control sk-hidden--visually\" id=\"sk-estimator-id-2\" type=\"checkbox\" checked><label for=\"sk-estimator-id-2\" class=\"sk-toggleable__label sk-toggleable__label-arrow\">RandomForestClassifier</label><div class=\"sk-toggleable__content\"><pre>RandomForestClassifier(n_estimators=4)</pre></div></div></div></div></div>"
      ],
      "text/plain": [
       "RandomForestClassifier(n_estimators=4)"
      ]
     },
     "execution_count": 17,
     "metadata": {},
     "output_type": "execute_result"
    }
   ],
   "source": [
    "# random forest \n",
    "rf = RandomForestClassifier(n_estimators=4)\n",
    "rf.fit(x_train_scaled, y_train)"
   ]
  },
  {
   "cell_type": "code",
   "execution_count": 18,
   "metadata": {},
   "outputs": [
    {
     "data": {
      "text/plain": [
       "0.9610445205479452"
      ]
     },
     "execution_count": 18,
     "metadata": {},
     "output_type": "execute_result"
    }
   ],
   "source": [
    "# model accuracy on training data\n",
    "rf.score(x_train_scaled, y_train)"
   ]
  },
  {
   "cell_type": "code",
   "execution_count": 19,
   "metadata": {},
   "outputs": [
    {
     "data": {
      "text/plain": [
       "0.845309381237525"
      ]
     },
     "execution_count": 19,
     "metadata": {},
     "output_type": "execute_result"
    }
   ],
   "source": [
    "# model accuracy on testing data\n",
    "rf.score(x_test_scaled, y_test)"
   ]
  },
  {
   "attachments": {},
   "cell_type": "markdown",
   "metadata": {},
   "source": [
    "Both the training and testing accuracies are quite high, but the model seems to have overfit to the training data since its accuracy is higher than that of the testing data. "
   ]
  },
  {
   "cell_type": "code",
   "execution_count": 20,
   "metadata": {},
   "outputs": [
    {
     "data": {
      "image/png": "[encoded data removed]",
      "text/plain": [
       "<Figure size 432x288 with 2 Axes>"
      ]
     },
     "metadata": {
      "needs_background": "light"
     },
     "output_type": "display_data"
    }
   ],
   "source": [
    "# random forest confusion matrix\n",
    "y_pred = rf.predict(x_test_scaled)\n",
    "confusion_matrix = metrics.confusion_matrix(y_test, y_pred)\n",
    "cm_display = metrics.ConfusionMatrixDisplay(confusion_matrix=confusion_matrix)\n",
    "cm_display.plot()\n",
    "plt.show()"
   ]
  },
  {
   "attachments": {},
   "cell_type": "markdown",
   "metadata": {},
   "source": [
    "The random forest model does a good job at correctly predicting low rank players, but it struggles to predict high rank players correctly. It incorrectly predicts high rank players as low rank players almost twice as much as it correctly predicts them. Between the two models, I think I prefer the logistic regression model since it has less overfitting, higher testing accuracy, and less errors in correctly predicting high rank players. "
   ]
  },
  {
   "attachments": {},
   "cell_type": "markdown",
   "metadata": {},
   "source": [
    "Unfortunately, due to the limited specifications of my laptop, I was unable to fully tune/optimize my models, so it is possible that I could have improved the performance of both models. The process would involve searching through a list of possible parameters for the model and selecting the values that optimize performance. "
   ]
  },
  {
   "attachments": {},
   "cell_type": "markdown",
   "metadata": {},
   "source": [
    "# Findings"
   ]
  },
  {
   "attachments": {},
   "cell_type": "markdown",
   "metadata": {},
   "source": [
    "I built a logistic regression model that predicts a player's rank at about 84% accuracy using all of the variables in dataset except GameID. To simplify my workflow and interpretations, I grouped Bronze to Diamond as low rank and Master to Professional as high rank. Overall, the variables in the dataset do a decent job at predicting rank. \n",
    "\n",
    "The model does a good job at correctly predicting low rank players as low rank, but it struggles in correctly predicting high rank players as high rank. This may be due to the fact that there were many more low rank players in the dataset than high rank players. There are more low rank data for the model to base its predictions on compared to high rank data. It might also be due to some high rank players displaying values similar to those in Diamond. \n",
    "\n",
    "I believe the model can be improved by trimming down the number of variables with the help of someone who has more knowledge in Starcraft. For example, some of the variables in the dataset deal with the same concept (hotkeys, PAC, etc.), so it would be nice to extract the most important variable(s) out of them. This would help simplify our model. With a more powerful machine, I could also further optimize the models. \n",
    "\n",
    "One note I would like to mention as well is that even though it is commonly accepted that younger players would perform better, there does not seem to be that strong of a relationship between age and rank. Therefore, it would be incorrect to some extent to assume that older players are not as good as younger ones. Perhaps the tradeoff between age and experience works in older players' favors."
   ]
  },
  {
   "attachments": {},
   "cell_type": "markdown",
   "metadata": {},
   "source": [
    "# Future Directions for Dataset"
   ]
  },
  {
   "attachments": {},
   "cell_type": "markdown",
   "metadata": {},
   "source": [
    "First, I would suggest trying to collect much more data on high rank players to balance out the dataset. If that is not possible, I would try to bootstrap the data. Also, like I mentioned above, I would suggest trimming down the list of variables to reduce noise in the dataset. That would decrease the amount of data needed to be collected as well. For example, I would assume NumberOfPACs would be indicative of GapBetweenPACs anyway since the duration between PACs would have to be shorter for more PACs to be performed. In this case, I would try to include only one of these variables. \n",
    "\n",
    "Also, seeing that the model struggles to correctly identify high rank players, I would suggest searching for another variable that would effectively indicate someone as high rank or engineer a new variable of our own. Either there is more information we can use to correctly identify high rank players, or there is a smaller difference between low rank players and high rank players than we would expect. For example, if possible, perhaps we could try to collect data on the number of unique build paths or strategies that player utilizes regularly. Using win rates might also be a good idea. "
   ]
  }
 ],
 "metadata": {
  "kernelspec": {
   "display_name": "Python 3",
   "language": "python",
   "name": "python3"
  },
  "language_info": {
   "codemirror_mode": {
    "name": "ipython",
    "version": 3
   },
   "file_extension": ".py",
   "mimetype": "text/x-python",
   "name": "python",
   "nbconvert_exporter": "python",
   "pygments_lexer": "ipython3",
   "version": "3.10.8"
  },
  "orig_nbformat": 4
 },
 "nbformat": 4,
 "nbformat_minor": 2
}
